{
  "cells": [
    {
      "cell_type": "markdown",
      "metadata": {
        "id": "7HXqe7srAuLK"
      },
      "source": [
        "# Insurance cost prediction using linear regression\n",
        "\n",
        "In this assignment we're going to use information like a person's age, sex, BMI, no. of children and smoking habit to predict the price of yearly medical bills. This kind of model is useful for insurance companies to determine the yearly insurance premium for a person. The dataset for this problem is taken from: https://www.kaggle.com/mirichoi0218/insurance\n",
        "\n",
        "We will create a model with the following steps:\n",
        "1. Download and explore the dataset\n",
        "2. Prepare the dataset for training\n",
        "3. Create a linear regression model\n",
        "4. Train the model to fit the data\n",
        "5. Make predictions using the trained model\n",
        "\n",
        "\n",
        "\n"
      ]
    },
    {
      "cell_type": "code",
      "execution_count": null,
      "metadata": {
        "id": "4iLz69-aApNl"
      },
      "outputs": [],
      "source": [
        "import torch\n",
        "import torch.nn as nn\n",
        "import pandas as pd\n",
        "import matplotlib.pyplot as plt\n",
        "import torch.nn.functional as F\n",
        "from torch.utils.data import DataLoader, TensorDataset, random_split"
      ]
    },
    {
      "cell_type": "markdown",
      "metadata": {
        "id": "E8YH63UNBWHf"
      },
      "source": [
        "# 1. Exploring The Data"
      ]
    },
    {
      "cell_type": "code",
      "execution_count": 2,
      "metadata": {
        "id": "enf8SyihA_HF"
      },
      "outputs": [],
      "source": [
        "DATA_FILENAME = \"insurance.csv\""
      ]
    },
    {
      "cell_type": "code",
      "execution_count": 3,
      "metadata": {
        "colab": {
          "base_uri": "https://localhost:8080/",
          "height": 206
        },
        "id": "MHj1ocF4A_Em",
        "outputId": "bca14b77-f1a4-4a37-9eca-3b2497a985c9"
      },
      "outputs": [
        {
          "data": {
            "application/vnd.google.colaboratory.intrinsic+json": {
              "summary": "{\n  \"name\": \"dataframe\",\n  \"rows\": 1338,\n  \"fields\": [\n    {\n      \"column\": \"age\",\n      \"properties\": {\n        \"dtype\": \"number\",\n        \"std\": 14,\n        \"min\": 18,\n        \"max\": 64,\n        \"num_unique_values\": 47,\n        \"samples\": [\n          21,\n          45,\n          36\n        ],\n        \"semantic_type\": \"\",\n        \"description\": \"\"\n      }\n    },\n    {\n      \"column\": \"sex\",\n      \"properties\": {\n        \"dtype\": \"category\",\n        \"num_unique_values\": 2,\n        \"samples\": [\n          \"male\",\n          \"female\"\n        ],\n        \"semantic_type\": \"\",\n        \"description\": \"\"\n      }\n    },\n    {\n      \"column\": \"bmi\",\n      \"properties\": {\n        \"dtype\": \"number\",\n        \"std\": 6.098186911679017,\n        \"min\": 15.96,\n        \"max\": 53.13,\n        \"num_unique_values\": 548,\n        \"samples\": [\n          23.18,\n          26.885\n        ],\n        \"semantic_type\": \"\",\n        \"description\": \"\"\n      }\n    },\n    {\n      \"column\": \"children\",\n      \"properties\": {\n        \"dtype\": \"number\",\n        \"std\": 1,\n        \"min\": 0,\n        \"max\": 5,\n        \"num_unique_values\": 6,\n        \"samples\": [\n          0,\n          1\n        ],\n        \"semantic_type\": \"\",\n        \"description\": \"\"\n      }\n    },\n    {\n      \"column\": \"smoker\",\n      \"properties\": {\n        \"dtype\": \"category\",\n        \"num_unique_values\": 2,\n        \"samples\": [\n          \"no\",\n          \"yes\"\n        ],\n        \"semantic_type\": \"\",\n        \"description\": \"\"\n      }\n    },\n    {\n      \"column\": \"region\",\n      \"properties\": {\n        \"dtype\": \"category\",\n        \"num_unique_values\": 4,\n        \"samples\": [\n          \"southeast\",\n          \"northeast\"\n        ],\n        \"semantic_type\": \"\",\n        \"description\": \"\"\n      }\n    },\n    {\n      \"column\": \"charges\",\n      \"properties\": {\n        \"dtype\": \"number\",\n        \"std\": 12110.011236693994,\n        \"min\": 1121.8739,\n        \"max\": 63770.42801,\n        \"num_unique_values\": 1337,\n        \"samples\": [\n          8688.85885,\n          5708.867\n        ],\n        \"semantic_type\": \"\",\n        \"description\": \"\"\n      }\n    }\n  ]\n}",
              "type": "dataframe",
              "variable_name": "dataframe"
            },
            "text/html": [
              "\n",
              "  <div id=\"df-57d1a130-a71d-4adc-b5b0-3e34358d6c2f\" class=\"colab-df-container\">\n",
              "    <div>\n",
              "<style scoped>\n",
              "    .dataframe tbody tr th:only-of-type {\n",
              "        vertical-align: middle;\n",
              "    }\n",
              "\n",
              "    .dataframe tbody tr th {\n",
              "        vertical-align: top;\n",
              "    }\n",
              "\n",
              "    .dataframe thead th {\n",
              "        text-align: right;\n",
              "    }\n",
              "</style>\n",
              "<table border=\"1\" class=\"dataframe\">\n",
              "  <thead>\n",
              "    <tr style=\"text-align: right;\">\n",
              "      <th></th>\n",
              "      <th>age</th>\n",
              "      <th>sex</th>\n",
              "      <th>bmi</th>\n",
              "      <th>children</th>\n",
              "      <th>smoker</th>\n",
              "      <th>region</th>\n",
              "      <th>charges</th>\n",
              "    </tr>\n",
              "  </thead>\n",
              "  <tbody>\n",
              "    <tr>\n",
              "      <th>0</th>\n",
              "      <td>19</td>\n",
              "      <td>female</td>\n",
              "      <td>27.900</td>\n",
              "      <td>0</td>\n",
              "      <td>yes</td>\n",
              "      <td>southwest</td>\n",
              "      <td>16884.92400</td>\n",
              "    </tr>\n",
              "    <tr>\n",
              "      <th>1</th>\n",
              "      <td>18</td>\n",
              "      <td>male</td>\n",
              "      <td>33.770</td>\n",
              "      <td>1</td>\n",
              "      <td>no</td>\n",
              "      <td>southeast</td>\n",
              "      <td>1725.55230</td>\n",
              "    </tr>\n",
              "    <tr>\n",
              "      <th>2</th>\n",
              "      <td>28</td>\n",
              "      <td>male</td>\n",
              "      <td>33.000</td>\n",
              "      <td>3</td>\n",
              "      <td>no</td>\n",
              "      <td>southeast</td>\n",
              "      <td>4449.46200</td>\n",
              "    </tr>\n",
              "    <tr>\n",
              "      <th>3</th>\n",
              "      <td>33</td>\n",
              "      <td>male</td>\n",
              "      <td>22.705</td>\n",
              "      <td>0</td>\n",
              "      <td>no</td>\n",
              "      <td>northwest</td>\n",
              "      <td>21984.47061</td>\n",
              "    </tr>\n",
              "    <tr>\n",
              "      <th>4</th>\n",
              "      <td>32</td>\n",
              "      <td>male</td>\n",
              "      <td>28.880</td>\n",
              "      <td>0</td>\n",
              "      <td>no</td>\n",
              "      <td>northwest</td>\n",
              "      <td>3866.85520</td>\n",
              "    </tr>\n",
              "  </tbody>\n",
              "</table>\n",
              "</div>\n",
              "    <div class=\"colab-df-buttons\">\n",
              "\n",
              "  <div class=\"colab-df-container\">\n",
              "    <button class=\"colab-df-convert\" onclick=\"convertToInteractive('df-57d1a130-a71d-4adc-b5b0-3e34358d6c2f')\"\n",
              "            title=\"Convert this dataframe to an interactive table.\"\n",
              "            style=\"display:none;\">\n",
              "\n",
              "  <svg xmlns=\"http://www.w3.org/2000/svg\" height=\"24px\" viewBox=\"0 -960 960 960\">\n",
              "    <path d=\"M120-120v-720h720v720H120Zm60-500h600v-160H180v160Zm220 220h160v-160H400v160Zm0 220h160v-160H400v160ZM180-400h160v-160H180v160Zm440 0h160v-160H620v160ZM180-180h160v-160H180v160Zm440 0h160v-160H620v160Z\"/>\n",
              "  </svg>\n",
              "    </button>\n",
              "\n",
              "  <style>\n",
              "    .colab-df-container {\n",
              "      display:flex;\n",
              "      gap: 12px;\n",
              "    }\n",
              "\n",
              "    .colab-df-convert {\n",
              "      background-color: #E8F0FE;\n",
              "      border: none;\n",
              "      border-radius: 50%;\n",
              "      cursor: pointer;\n",
              "      display: none;\n",
              "      fill: #1967D2;\n",
              "      height: 32px;\n",
              "      padding: 0 0 0 0;\n",
              "      width: 32px;\n",
              "    }\n",
              "\n",
              "    .colab-df-convert:hover {\n",
              "      background-color: #E2EBFA;\n",
              "      box-shadow: 0px 1px 2px rgba(60, 64, 67, 0.3), 0px 1px 3px 1px rgba(60, 64, 67, 0.15);\n",
              "      fill: #174EA6;\n",
              "    }\n",
              "\n",
              "    .colab-df-buttons div {\n",
              "      margin-bottom: 4px;\n",
              "    }\n",
              "\n",
              "    [theme=dark] .colab-df-convert {\n",
              "      background-color: #3B4455;\n",
              "      fill: #D2E3FC;\n",
              "    }\n",
              "\n",
              "    [theme=dark] .colab-df-convert:hover {\n",
              "      background-color: #434B5C;\n",
              "      box-shadow: 0px 1px 3px 1px rgba(0, 0, 0, 0.15);\n",
              "      filter: drop-shadow(0px 1px 2px rgba(0, 0, 0, 0.3));\n",
              "      fill: #FFFFFF;\n",
              "    }\n",
              "  </style>\n",
              "\n",
              "    <script>\n",
              "      const buttonEl =\n",
              "        document.querySelector('#df-57d1a130-a71d-4adc-b5b0-3e34358d6c2f button.colab-df-convert');\n",
              "      buttonEl.style.display =\n",
              "        google.colab.kernel.accessAllowed ? 'block' : 'none';\n",
              "\n",
              "      async function convertToInteractive(key) {\n",
              "        const element = document.querySelector('#df-57d1a130-a71d-4adc-b5b0-3e34358d6c2f');\n",
              "        const dataTable =\n",
              "          await google.colab.kernel.invokeFunction('convertToInteractive',\n",
              "                                                    [key], {});\n",
              "        if (!dataTable) return;\n",
              "\n",
              "        const docLinkHtml = 'Like what you see? Visit the ' +\n",
              "          '<a target=\"_blank\" href=https://colab.research.google.com/notebooks/data_table.ipynb>data table notebook</a>'\n",
              "          + ' to learn more about interactive tables.';\n",
              "        element.innerHTML = '';\n",
              "        dataTable['output_type'] = 'display_data';\n",
              "        await google.colab.output.renderOutput(dataTable, element);\n",
              "        const docLink = document.createElement('div');\n",
              "        docLink.innerHTML = docLinkHtml;\n",
              "        element.appendChild(docLink);\n",
              "      }\n",
              "    </script>\n",
              "  </div>\n",
              "\n",
              "\n",
              "    <div id=\"df-0f97e0a5-da2b-4bbe-9c6d-eaa6f9f3c30f\">\n",
              "      <button class=\"colab-df-quickchart\" onclick=\"quickchart('df-0f97e0a5-da2b-4bbe-9c6d-eaa6f9f3c30f')\"\n",
              "                title=\"Suggest charts\"\n",
              "                style=\"display:none;\">\n",
              "\n",
              "<svg xmlns=\"http://www.w3.org/2000/svg\" height=\"24px\"viewBox=\"0 0 24 24\"\n",
              "     width=\"24px\">\n",
              "    <g>\n",
              "        <path d=\"M19 3H5c-1.1 0-2 .9-2 2v14c0 1.1.9 2 2 2h14c1.1 0 2-.9 2-2V5c0-1.1-.9-2-2-2zM9 17H7v-7h2v7zm4 0h-2V7h2v10zm4 0h-2v-4h2v4z\"/>\n",
              "    </g>\n",
              "</svg>\n",
              "      </button>\n",
              "\n",
              "<style>\n",
              "  .colab-df-quickchart {\n",
              "      --bg-color: #E8F0FE;\n",
              "      --fill-color: #1967D2;\n",
              "      --hover-bg-color: #E2EBFA;\n",
              "      --hover-fill-color: #174EA6;\n",
              "      --disabled-fill-color: #AAA;\n",
              "      --disabled-bg-color: #DDD;\n",
              "  }\n",
              "\n",
              "  [theme=dark] .colab-df-quickchart {\n",
              "      --bg-color: #3B4455;\n",
              "      --fill-color: #D2E3FC;\n",
              "      --hover-bg-color: #434B5C;\n",
              "      --hover-fill-color: #FFFFFF;\n",
              "      --disabled-bg-color: #3B4455;\n",
              "      --disabled-fill-color: #666;\n",
              "  }\n",
              "\n",
              "  .colab-df-quickchart {\n",
              "    background-color: var(--bg-color);\n",
              "    border: none;\n",
              "    border-radius: 50%;\n",
              "    cursor: pointer;\n",
              "    display: none;\n",
              "    fill: var(--fill-color);\n",
              "    height: 32px;\n",
              "    padding: 0;\n",
              "    width: 32px;\n",
              "  }\n",
              "\n",
              "  .colab-df-quickchart:hover {\n",
              "    background-color: var(--hover-bg-color);\n",
              "    box-shadow: 0 1px 2px rgba(60, 64, 67, 0.3), 0 1px 3px 1px rgba(60, 64, 67, 0.15);\n",
              "    fill: var(--button-hover-fill-color);\n",
              "  }\n",
              "\n",
              "  .colab-df-quickchart-complete:disabled,\n",
              "  .colab-df-quickchart-complete:disabled:hover {\n",
              "    background-color: var(--disabled-bg-color);\n",
              "    fill: var(--disabled-fill-color);\n",
              "    box-shadow: none;\n",
              "  }\n",
              "\n",
              "  .colab-df-spinner {\n",
              "    border: 2px solid var(--fill-color);\n",
              "    border-color: transparent;\n",
              "    border-bottom-color: var(--fill-color);\n",
              "    animation:\n",
              "      spin 1s steps(1) infinite;\n",
              "  }\n",
              "\n",
              "  @keyframes spin {\n",
              "    0% {\n",
              "      border-color: transparent;\n",
              "      border-bottom-color: var(--fill-color);\n",
              "      border-left-color: var(--fill-color);\n",
              "    }\n",
              "    20% {\n",
              "      border-color: transparent;\n",
              "      border-left-color: var(--fill-color);\n",
              "      border-top-color: var(--fill-color);\n",
              "    }\n",
              "    30% {\n",
              "      border-color: transparent;\n",
              "      border-left-color: var(--fill-color);\n",
              "      border-top-color: var(--fill-color);\n",
              "      border-right-color: var(--fill-color);\n",
              "    }\n",
              "    40% {\n",
              "      border-color: transparent;\n",
              "      border-right-color: var(--fill-color);\n",
              "      border-top-color: var(--fill-color);\n",
              "    }\n",
              "    60% {\n",
              "      border-color: transparent;\n",
              "      border-right-color: var(--fill-color);\n",
              "    }\n",
              "    80% {\n",
              "      border-color: transparent;\n",
              "      border-right-color: var(--fill-color);\n",
              "      border-bottom-color: var(--fill-color);\n",
              "    }\n",
              "    90% {\n",
              "      border-color: transparent;\n",
              "      border-bottom-color: var(--fill-color);\n",
              "    }\n",
              "  }\n",
              "</style>\n",
              "\n",
              "      <script>\n",
              "        async function quickchart(key) {\n",
              "          const quickchartButtonEl =\n",
              "            document.querySelector('#' + key + ' button');\n",
              "          quickchartButtonEl.disabled = true;  // To prevent multiple clicks.\n",
              "          quickchartButtonEl.classList.add('colab-df-spinner');\n",
              "          try {\n",
              "            const charts = await google.colab.kernel.invokeFunction(\n",
              "                'suggestCharts', [key], {});\n",
              "          } catch (error) {\n",
              "            console.error('Error during call to suggestCharts:', error);\n",
              "          }\n",
              "          quickchartButtonEl.classList.remove('colab-df-spinner');\n",
              "          quickchartButtonEl.classList.add('colab-df-quickchart-complete');\n",
              "        }\n",
              "        (() => {\n",
              "          let quickchartButtonEl =\n",
              "            document.querySelector('#df-0f97e0a5-da2b-4bbe-9c6d-eaa6f9f3c30f button');\n",
              "          quickchartButtonEl.style.display =\n",
              "            google.colab.kernel.accessAllowed ? 'block' : 'none';\n",
              "        })();\n",
              "      </script>\n",
              "    </div>\n",
              "\n",
              "    </div>\n",
              "  </div>\n"
            ],
            "text/plain": [
              "   age     sex     bmi  children smoker     region      charges\n",
              "0   19  female  27.900         0    yes  southwest  16884.92400\n",
              "1   18    male  33.770         1     no  southeast   1725.55230\n",
              "2   28    male  33.000         3     no  southeast   4449.46200\n",
              "3   33    male  22.705         0     no  northwest  21984.47061\n",
              "4   32    male  28.880         0     no  northwest   3866.85520"
            ]
          },
          "execution_count": 3,
          "metadata": {},
          "output_type": "execute_result"
        }
      ],
      "source": [
        "dataframe = pd.read_csv(DATA_FILENAME)\n",
        "dataframe.head()"
      ]
    },
    {
      "cell_type": "code",
      "execution_count": 4,
      "metadata": {
        "colab": {
          "base_uri": "https://localhost:8080/"
        },
        "id": "bDZyw4njB1i5",
        "outputId": "5f762f69-ff3e-413c-8981-309d8bfa1fd1"
      },
      "outputs": [
        {
          "name": "stdout",
          "output_type": "stream",
          "text": [
            "1338\n"
          ]
        }
      ],
      "source": [
        "# Number of rows in the dataset\n",
        "num_rows = len(dataframe)\n",
        "print(num_rows)"
      ]
    },
    {
      "cell_type": "code",
      "execution_count": 5,
      "metadata": {
        "colab": {
          "base_uri": "https://localhost:8080/"
        },
        "id": "_4u5b3WxCSmu",
        "outputId": "50dc1ced-1ed3-44f0-92f7-2d530d4a1f58"
      },
      "outputs": [
        {
          "name": "stdout",
          "output_type": "stream",
          "text": [
            "7\n"
          ]
        }
      ],
      "source": [
        "# number of columns in the dataset\n",
        "num_cols = len(dataframe.columns)\n",
        "print(num_cols)"
      ]
    },
    {
      "cell_type": "code",
      "execution_count": 6,
      "metadata": {
        "colab": {
          "base_uri": "https://localhost:8080/"
        },
        "id": "qtxwpFdSB1gK",
        "outputId": "d6465fb9-17da-4135-f0d3-bd364094dfb4"
      },
      "outputs": [
        {
          "data": {
            "text/plain": [
              "['age', 'sex', 'bmi', 'children', 'smoker', 'region']"
            ]
          },
          "execution_count": 6,
          "metadata": {},
          "output_type": "execute_result"
        }
      ],
      "source": [
        "# column titles of the input\n",
        "input_cols = list(dataframe.drop('charges',axis=1).columns)\n",
        "input_cols"
      ]
    },
    {
      "cell_type": "code",
      "execution_count": 7,
      "metadata": {
        "colab": {
          "base_uri": "https://localhost:8080/"
        },
        "id": "iquFZy__B1da",
        "outputId": "172f4052-ad09-4a6d-d168-b4e1275ab0b4"
      },
      "outputs": [
        {
          "data": {
            "text/plain": [
              "['sex', 'smoker', 'region']"
            ]
          },
          "execution_count": 7,
          "metadata": {},
          "output_type": "execute_result"
        }
      ],
      "source": [
        "# input columns that are non-numeric / categorial variables\n",
        "categorical_cols = list(dataframe.select_dtypes(include=\"object\").columns)\n",
        "categorical_cols"
      ]
    },
    {
      "cell_type": "code",
      "execution_count": 8,
      "metadata": {
        "colab": {
          "base_uri": "https://localhost:8080/"
        },
        "id": "x-IYPeyiCSbj",
        "outputId": "df5394a5-3dc9-4e6c-c6c7-17bb50b21b28"
      },
      "outputs": [
        {
          "data": {
            "text/plain": [
              "['charges']"
            ]
          },
          "execution_count": 8,
          "metadata": {},
          "output_type": "execute_result"
        }
      ],
      "source": [
        "# column title of output/target variables\n",
        "output_cols = [dataframe.columns[-1]]\n",
        "output_cols"
      ]
    },
    {
      "cell_type": "code",
      "execution_count": 9,
      "metadata": {
        "colab": {
          "base_uri": "https://localhost:8080/"
        },
        "id": "mqPiBBnbCSYy",
        "outputId": "3c1e3fd6-245c-46aa-8b30-f3f5b2480632"
      },
      "outputs": [
        {
          "name": "stdout",
          "output_type": "stream",
          "text": [
            "Minimum charge: 1121.8739\n",
            "Maximum charge: 63770.42801\n",
            "Average charge: 13270.422265141257\n"
          ]
        }
      ],
      "source": [
        "#minimum, maximum and average value of the \"charges\" column\n",
        "import numpy as np\n",
        "\n",
        "min_charge = dataframe.charges.min()\n",
        "\n",
        "max_charge = dataframe.charges.max()\n",
        "\n",
        "avg_charge = dataframe.charges.mean()\n",
        "\n",
        "print(f\"Minimum charge: {min_charge}\")\n",
        "print(f\"Maximum charge: {max_charge}\")\n",
        "print(f\"Average charge: {avg_charge}\")"
      ]
    },
    {
      "cell_type": "markdown",
      "metadata": {
        "id": "qy5NUzdTDj58"
      },
      "source": [
        "### the distribution of 'charge' values in a graph"
      ]
    },
    {
      "cell_type": "code",
      "execution_count": 10,
      "metadata": {
        "colab": {
          "base_uri": "https://localhost:8080/",
          "height": 506
        },
        "id": "Suu_JrbSDm-7",
        "outputId": "6e1e4d14-e7ab-485a-a33f-de4a209c49fd"
      },
      "outputs": [
        {
          "data": {
            "image/png": "[encoded data removed]",
            "text/plain": [
              "<Figure size 900x500 with 2 Axes>"
            ]
          },
          "metadata": {},
          "output_type": "display_data"
        }
      ],
      "source": [
        "import seaborn as sns\n",
        "sns.set_style(\"darkgrid\")\n",
        "plt.rcParams['font.size'] = 14\n",
        "plt.rcParams['figure.figsize'] = (9, 5)\n",
        "\n",
        "fig, axs = plt.subplots(ncols=2)\n",
        "fig.suptitle(\"Distribution of charges\")\n",
        "\n",
        "# Plot original distribution\n",
        "sns.histplot(dataframe.charges, kde=True, ax=axs[0])\n",
        "axs[0].set_title(\"Original Distribution\")\n",
        "\n",
        "# Plot log-transformed distribution\n",
        "sns.histplot(np.log(dataframe.charges), kde=True, ax=axs[1])\n",
        "axs[1].set_title(\"Log-Transformed Distribution\")\n",
        "\n",
        "plt.tight_layout(rect=[0, 0, 1, 0.95])  # Adjust layout to make room for suptitle\n",
        "plt.show()\n"
      ]
    },
    {
      "cell_type": "markdown",
      "metadata": {
        "id": "hvNMrMv4FHAW"
      },
      "source": [
        "# 2. Prepare the dataset for training\n",
        "\n",
        "we need to convert the data from the pandas dataframe into pyTorch tensorsfor training\n",
        "\n",
        "in order to do this we need first to convert it to numpy arrays"
      ]
    },
    {
      "cell_type": "code",
      "execution_count": 11,
      "metadata": {
        "id": "W9WTRf4IDjXL"
      },
      "outputs": [],
      "source": [
        "def dataframe_to_arrays(dataframe):\n",
        "  # Copy of the original dataframe\n",
        "  dataframe1 = dataframe.copy()\n",
        "  # convert non-numeric categorical columns into numbers\n",
        "  for col in categorical_cols :\n",
        "    dataframe1[col] = dataframe1[col].astype('category').cat.codes\n",
        "  # Extract input & outputs & targets as numpy arrays\n",
        "  inputs_array = np.array(dataframe1[input_cols])\n",
        "  targets_array = np.array(dataframe1[output_cols])\n",
        "  return inputs_array, targets_array\n"
      ]
    },
    {
      "cell_type": "code",
      "execution_count": 12,
      "metadata": {
        "colab": {
          "base_uri": "https://localhost:8080/"
        },
        "id": "GCHpQLM7HcFM",
        "outputId": "917fa9db-01de-4a3c-acbf-b0a2c3fea51a"
      },
      "outputs": [
        {
          "name": "stdout",
          "output_type": "stream",
          "text": [
            "(1338, 6) (1338, 1)\n"
          ]
        },
        {
          "data": {
            "text/plain": [
              "(array([[19.  ,  0.  , 27.9 ,  0.  ,  1.  ,  3.  ],\n",
              "        [18.  ,  1.  , 33.77,  1.  ,  0.  ,  2.  ],\n",
              "        [28.  ,  1.  , 33.  ,  3.  ,  0.  ,  2.  ],\n",
              "        ...,\n",
              "        [18.  ,  0.  , 36.85,  0.  ,  0.  ,  2.  ],\n",
              "        [21.  ,  0.  , 25.8 ,  0.  ,  0.  ,  3.  ],\n",
              "        [61.  ,  0.  , 29.07,  0.  ,  1.  ,  1.  ]]),\n",
              " array([[16884.924 ],\n",
              "        [ 1725.5523],\n",
              "        [ 4449.462 ],\n",
              "        ...,\n",
              "        [ 1629.8335],\n",
              "        [ 2007.945 ],\n",
              "        [29141.3603]]))"
            ]
          },
          "execution_count": 12,
          "metadata": {},
          "output_type": "execute_result"
        }
      ],
      "source": [
        "inputs_array, targets_array = dataframe_to_arrays(dataframe)\n",
        "print(inputs_array.shape, targets_array.shape)\n",
        "inputs_array, targets_array"
      ]
    },
    {
      "cell_type": "markdown",
      "metadata": {
        "id": "nKN4l_-5II4D"
      },
      "source": [
        "**Q: Convert the numpy arrays `inputs_array` and `targets_array` into PyTorch tensors."
      ]
    },
    {
      "cell_type": "code",
      "execution_count": 13,
      "metadata": {
        "id": "rgrYGiNLH3EN"
      },
      "outputs": [],
      "source": [
        "# Important data type float32\n",
        "inputs = torch.from_numpy(inputs_array).to(torch.float32)\n",
        "targets = torch.from_numpy(targets_array).to(torch.float32)"
      ]
    },
    {
      "cell_type": "code",
      "execution_count": 14,
      "metadata": {
        "colab": {
          "base_uri": "https://localhost:8080/"
        },
        "id": "eaqF4VMhH3BU",
        "outputId": "f3bc3a40-98cb-41b5-c801-561c2c814b26"
      },
      "outputs": [
        {
          "data": {
            "text/plain": [
              "(torch.float32, torch.float32)"
            ]
          },
          "execution_count": 14,
          "metadata": {},
          "output_type": "execute_result"
        }
      ],
      "source": [
        "inputs.dtype, targets.dtype"
      ]
    },
    {
      "cell_type": "code",
      "execution_count": 15,
      "metadata": {
        "colab": {
          "base_uri": "https://localhost:8080/"
        },
        "id": "umei78FQH2-l",
        "outputId": "a11c1464-60f0-4bd3-de9a-c01b1275dbd8"
      },
      "outputs": [
        {
          "name": "stdout",
          "output_type": "stream",
          "text": [
            "tensor([[19.0000,  0.0000, 27.9000,  0.0000,  1.0000,  3.0000],\n",
            "        [18.0000,  1.0000, 33.7700,  1.0000,  0.0000,  2.0000],\n",
            "        [28.0000,  1.0000, 33.0000,  3.0000,  0.0000,  2.0000],\n",
            "        ...,\n",
            "        [18.0000,  0.0000, 36.8500,  0.0000,  0.0000,  2.0000],\n",
            "        [21.0000,  0.0000, 25.8000,  0.0000,  0.0000,  3.0000],\n",
            "        [61.0000,  0.0000, 29.0700,  0.0000,  1.0000,  1.0000]]) tensor([[16884.9238],\n",
            "        [ 1725.5522],\n",
            "        [ 4449.4619],\n",
            "        ...,\n",
            "        [ 1629.8335],\n",
            "        [ 2007.9449],\n",
            "        [29141.3594]])\n"
          ]
        }
      ],
      "source": [
        "print(inputs, targets)"
      ]
    },
    {
      "cell_type": "markdown",
      "metadata": {
        "id": "c6XFw3cDJYtI"
      },
      "source": [
        "Creating Pytorch datasets & data loaders for traning & validation using `TensorDataset`"
      ]
    },
    {
      "cell_type": "code",
      "execution_count": 16,
      "metadata": {
        "id": "-Q6AnJyOJVjX"
      },
      "outputs": [],
      "source": [
        "dataset = TensorDataset(inputs, targets)"
      ]
    },
    {
      "cell_type": "markdown",
      "metadata": {
        "id": "IZBpMRFeJth-"
      },
      "source": [
        "using `random_split` to create training & validation datasets"
      ]
    },
    {
      "cell_type": "code",
      "execution_count": 17,
      "metadata": {
        "colab": {
          "base_uri": "https://localhost:8080/"
        },
        "id": "5UQHZpkTJVgm",
        "outputId": "006f9afd-628f-4d22-a9d8-9b887145cd86"
      },
      "outputs": [
        {
          "name": "stdout",
          "output_type": "stream",
          "text": [
            "133\n",
            "1205\n"
          ]
        }
      ],
      "source": [
        "validation_percent = 0.1\n",
        "validation_size = int(num_rows * validation_percent)\n",
        "print(validation_size)\n",
        "train_size = num_rows - validation_size\n",
        "print(train_size)\n",
        "\n",
        "train_ds, validation_ds = random_split(dataset, [train_size, validation_size]) # Randomly splitting dataset  into 2 parts with desired length"
      ]
    },
    {
      "cell_type": "code",
      "execution_count": 18,
      "metadata": {
        "colab": {
          "base_uri": "https://localhost:8080/"
        },
        "id": "KXnHcI7qJVeE",
        "outputId": "f2adfee3-6c9e-4323-bfa9-76b2df71619e"
      },
      "outputs": [
        {
          "name": "stdout",
          "output_type": "stream",
          "text": [
            "1205\n",
            "133\n"
          ]
        }
      ],
      "source": [
        "print(len(train_ds))\n",
        "print(len(validation_ds))"
      ]
    },
    {
      "cell_type": "markdown",
      "metadata": {
        "id": "RZ7HLXLvLCnm"
      },
      "source": [
        "## Creating data loaders for training & validation(testing)"
      ]
    },
    {
      "cell_type": "code",
      "execution_count": 19,
      "metadata": {
        "id": "SpyWkES_JVb3"
      },
      "outputs": [],
      "source": [
        "batch_size = 64 # most likely i will try 32 as well (i heard it enough from an old tutorial things may have changed now)"
      ]
    },
    {
      "cell_type": "code",
      "execution_count": 20,
      "metadata": {
        "id": "Nt-VR_vaLYHS"
      },
      "outputs": [],
      "source": [
        "train_loader = DataLoader(train_ds, batch_size, shuffle=True)\n",
        "validation_loader = DataLoader(validation_ds, batch_size)"
      ]
    },
    {
      "cell_type": "code",
      "execution_count": 21,
      "metadata": {
        "colab": {
          "base_uri": "https://localhost:8080/"
        },
        "id": "U5JGX4elLYE5",
        "outputId": "5bedbc9f-f51e-4a9e-a210-fb7c22d53d14"
      },
      "outputs": [
        {
          "name": "stdout",
          "output_type": "stream",
          "text": [
            "inputs: tensor([[57.0000,  1.0000, 31.5400,  0.0000,  0.0000,  1.0000],\n",
            "        [51.0000,  1.0000, 42.9000,  2.0000,  1.0000,  2.0000],\n",
            "        [27.0000,  0.0000, 21.4700,  0.0000,  0.0000,  1.0000],\n",
            "        [27.0000,  1.0000, 30.5000,  0.0000,  0.0000,  3.0000],\n",
            "        [30.0000,  1.0000, 24.1300,  1.0000,  0.0000,  1.0000],\n",
            "        [21.0000,  1.0000, 26.0300,  0.0000,  0.0000,  0.0000],\n",
            "        [32.0000,  1.0000, 30.8000,  3.0000,  0.0000,  3.0000],\n",
            "        [64.0000,  0.0000, 22.9900,  0.0000,  1.0000,  2.0000],\n",
            "        [20.0000,  1.0000, 27.3000,  0.0000,  1.0000,  3.0000],\n",
            "        [50.0000,  1.0000, 25.3650,  2.0000,  0.0000,  1.0000],\n",
            "        [62.0000,  0.0000, 32.6800,  0.0000,  0.0000,  1.0000],\n",
            "        [55.0000,  0.0000, 29.8300,  0.0000,  0.0000,  0.0000],\n",
            "        [54.0000,  0.0000, 30.8000,  3.0000,  0.0000,  3.0000],\n",
            "        [19.0000,  0.0000, 23.4000,  2.0000,  0.0000,  3.0000],\n",
            "        [47.0000,  0.0000, 33.3450,  0.0000,  0.0000,  0.0000],\n",
            "        [30.0000,  1.0000, 31.4000,  1.0000,  0.0000,  3.0000],\n",
            "        [60.0000,  0.0000, 18.3350,  0.0000,  0.0000,  0.0000],\n",
            "        [20.0000,  0.0000, 26.8400,  1.0000,  1.0000,  2.0000],\n",
            "        [35.0000,  0.0000, 27.7000,  3.0000,  0.0000,  3.0000],\n",
            "        [33.0000,  1.0000, 22.7050,  0.0000,  0.0000,  1.0000],\n",
            "        [52.0000,  0.0000, 31.7300,  2.0000,  0.0000,  1.0000],\n",
            "        [29.0000,  0.0000, 21.7550,  1.0000,  1.0000,  0.0000],\n",
            "        [50.0000,  0.0000, 28.1600,  3.0000,  0.0000,  2.0000],\n",
            "        [43.0000,  0.0000, 20.0450,  2.0000,  1.0000,  0.0000],\n",
            "        [35.0000,  1.0000, 39.7100,  4.0000,  0.0000,  0.0000],\n",
            "        [21.0000,  1.0000, 31.0200,  0.0000,  0.0000,  2.0000],\n",
            "        [42.0000,  1.0000, 35.8000,  2.0000,  0.0000,  3.0000],\n",
            "        [60.0000,  1.0000, 40.9200,  0.0000,  1.0000,  2.0000],\n",
            "        [47.0000,  1.0000, 19.1900,  1.0000,  0.0000,  0.0000],\n",
            "        [33.0000,  1.0000, 24.7950,  0.0000,  1.0000,  0.0000],\n",
            "        [43.0000,  0.0000, 30.6850,  2.0000,  0.0000,  1.0000],\n",
            "        [25.0000,  0.0000, 22.5150,  1.0000,  0.0000,  1.0000],\n",
            "        [42.0000,  1.0000, 24.6400,  0.0000,  1.0000,  2.0000],\n",
            "        [34.0000,  1.0000, 27.8350,  1.0000,  1.0000,  1.0000],\n",
            "        [39.0000,  1.0000, 26.4100,  0.0000,  1.0000,  0.0000],\n",
            "        [40.0000,  0.0000, 25.4600,  1.0000,  0.0000,  0.0000],\n",
            "        [58.0000,  0.0000, 32.3950,  1.0000,  0.0000,  0.0000],\n",
            "        [20.0000,  0.0000, 29.6000,  0.0000,  0.0000,  3.0000],\n",
            "        [61.0000,  0.0000, 29.9200,  3.0000,  1.0000,  2.0000],\n",
            "        [41.0000,  0.0000, 32.6000,  3.0000,  0.0000,  3.0000],\n",
            "        [48.0000,  0.0000, 32.3000,  2.0000,  0.0000,  0.0000],\n",
            "        [32.0000,  0.0000, 41.1000,  0.0000,  0.0000,  3.0000],\n",
            "        [46.0000,  1.0000, 42.3500,  3.0000,  1.0000,  2.0000],\n",
            "        [32.0000,  1.0000, 28.8800,  0.0000,  0.0000,  1.0000],\n",
            "        [32.0000,  1.0000, 33.6300,  1.0000,  1.0000,  0.0000],\n",
            "        [61.0000,  1.0000, 23.6550,  0.0000,  0.0000,  0.0000],\n",
            "        [34.0000,  0.0000, 27.5000,  1.0000,  0.0000,  3.0000],\n",
            "        [22.0000,  1.0000, 28.3100,  1.0000,  0.0000,  1.0000],\n",
            "        [24.0000,  0.0000, 30.1000,  3.0000,  0.0000,  3.0000],\n",
            "        [35.0000,  1.0000, 27.7400,  2.0000,  1.0000,  0.0000],\n",
            "        [44.0000,  1.0000, 37.1000,  2.0000,  0.0000,  3.0000],\n",
            "        [62.0000,  0.0000, 39.2000,  0.0000,  0.0000,  3.0000],\n",
            "        [31.0000,  0.0000, 32.6800,  1.0000,  0.0000,  1.0000],\n",
            "        [30.0000,  1.0000, 28.6900,  3.0000,  1.0000,  1.0000],\n",
            "        [42.0000,  0.0000, 29.4800,  2.0000,  0.0000,  2.0000],\n",
            "        [42.0000,  1.0000, 24.8600,  0.0000,  0.0000,  2.0000],\n",
            "        [40.0000,  0.0000, 22.2200,  2.0000,  1.0000,  2.0000],\n",
            "        [42.0000,  1.0000, 24.6050,  2.0000,  1.0000,  0.0000],\n",
            "        [42.0000,  0.0000, 24.9850,  2.0000,  0.0000,  1.0000],\n",
            "        [57.0000,  1.0000, 23.7000,  0.0000,  0.0000,  3.0000],\n",
            "        [35.0000,  0.0000, 34.2100,  1.0000,  0.0000,  2.0000],\n",
            "        [58.0000,  1.0000, 34.8650,  0.0000,  0.0000,  0.0000],\n",
            "        [64.0000,  1.0000, 26.4100,  0.0000,  0.0000,  0.0000],\n",
            "        [54.0000,  0.0000, 31.9000,  3.0000,  0.0000,  2.0000]])\n",
            "targets: tensor([[11353.2275],\n",
            "        [47462.8945],\n",
            "        [ 3353.4702],\n",
            "        [ 2494.0220],\n",
            "        [ 4032.2407],\n",
            "        [ 2102.2646],\n",
            "        [ 5253.5239],\n",
            "        [27037.9141],\n",
            "        [16232.8467],\n",
            "        [30284.6426],\n",
            "        [13844.7969],\n",
            "        [11286.5391],\n",
            "        [12105.3203],\n",
            "        [ 2913.5691],\n",
            "        [20878.7852],\n",
            "        [ 3659.3459],\n",
            "        [13204.2861],\n",
            "        [17085.2676],\n",
            "        [ 6414.1782],\n",
            "        [21984.4707],\n",
            "        [11187.6562],\n",
            "        [16657.7168],\n",
            "        [10702.6426],\n",
            "        [19798.0547],\n",
            "        [19496.7188],\n",
            "        [16586.4980],\n",
            "        [ 7160.0942],\n",
            "        [48673.5586],\n",
            "        [ 8627.5410],\n",
            "        [17904.5273],\n",
            "        [ 8310.8389],\n",
            "        [ 3594.1709],\n",
            "        [19515.5410],\n",
            "        [20009.6328],\n",
            "        [20149.3223],\n",
            "        [ 7077.1895],\n",
            "        [13019.1611],\n",
            "        [ 1875.3440],\n",
            "        [30942.1914],\n",
            "        [ 7954.5171],\n",
            "        [10043.2490],\n",
            "        [ 3989.8411],\n",
            "        [46151.1250],\n",
            "        [ 3866.8552],\n",
            "        [37607.5273],\n",
            "        [13129.6035],\n",
            "        [ 5003.8530],\n",
            "        [ 2639.0430],\n",
            "        [ 4234.9268],\n",
            "        [20984.0938],\n",
            "        [ 7740.3369],\n",
            "        [13470.8604],\n",
            "        [ 4738.2681],\n",
            "        [20745.9883],\n",
            "        [ 7640.3091],\n",
            "        [ 5966.8872],\n",
            "        [19444.2656],\n",
            "        [21259.3789],\n",
            "        [ 8017.0610],\n",
            "        [10959.3301],\n",
            "        [ 5245.2271],\n",
            "        [11944.5947],\n",
            "        [14394.5576],\n",
            "        [27322.7344]])\n"
          ]
        }
      ],
      "source": [
        "# cheking that batch of data is working\n",
        "for xb, yb in train_loader:\n",
        "  print(\"inputs:\", xb)\n",
        "  print(\"targets:\", yb)\n",
        "  break"
      ]
    },
    {
      "cell_type": "markdown",
      "metadata": {
        "id": "LxIEHuqlOSJb"
      },
      "source": [
        "# 3. Create a Linear Regression"
      ]
    },
    {
      "cell_type": "code",
      "execution_count": 22,
      "metadata": {
        "colab": {
          "base_uri": "https://localhost:8080/"
        },
        "id": "8z1mmbUhLYCr",
        "outputId": "51e00008-a6f8-443d-8ab8-2085e3d13bd9"
      },
      "outputs": [
        {
          "name": "stdout",
          "output_type": "stream",
          "text": [
            "6\n",
            "1\n"
          ]
        }
      ],
      "source": [
        "input_size = len(input_cols)\n",
        "print(input_size)\n",
        "output_size = len(output_cols)\n",
        "print(output_size)\n"
      ]
    },
    {
      "cell_type": "code",
      "execution_count": 23,
      "metadata": {
        "id": "p3dpyhESLX3z"
      },
      "outputs": [],
      "source": [
        "class InsuranceModel(nn.Module):\n",
        "  def __init__(self):\n",
        "    super().__init__()\n",
        "    # Single fully-connected layer that directly maps the inputs to outputs\n",
        "    self.linear = nn.Linear(input_size, output_size)\n",
        "\n",
        "  def forward(self, xb):\n",
        "      out = self.linear(xb)\n",
        "      return out\n",
        "\n",
        "  def training_step(self, batch):\n",
        "    inputs, targets = batch\n",
        "    # Generate predictions\n",
        "    out = self(inputs) # same as self.forward(inputs)\n",
        "    # Calculate loss (using l1_loss function)\n",
        "    loss = F.l1_loss(out, targets)\n",
        "    return loss\n",
        "\n",
        "  def validation_step(self, batch):\n",
        "    inputs, targets = batch\n",
        "    # Generate predictions\n",
        "    out = self(inputs)\n",
        "    # Calculate loss\n",
        "    loss = F.l1_loss(out, targets)\n",
        "    return {'val_loss': loss.detach()}\n",
        "\n",
        "  def validation_epoch_end(self, outputs):\n",
        "    # extract the 'val_loss' value from each dictionary in the outputs list.\n",
        "    batch_losses = [x['val_loss'] for x in outputs]\n",
        "\n",
        "    # torch.stack(batch_losses): This takes the list of individual batch loss tensors and stacks them into a single tensor.\n",
        "    epoch_loss = torch.stack(batch_losses).mean() # Combine losses\n",
        "    #.item(): This is used to get the standard Python number from the tensor\n",
        "    return {'val_loss': epoch_loss.item()}\n",
        "\n",
        "  def epoch_end(self, epoch, result, num_epochs):\n",
        "    # Print result every 500th epoch\n",
        "    if (epoch+1) % 500 == 0 or epoch == num_epochs-1:\n",
        "      print(\"Epoch [{}], val_loss: {:.4f}\".format(epoch+1, result['val_loss']))\n",
        "\n"
      ]
    },
    {
      "cell_type": "markdown",
      "metadata": {
        "id": "8mRkfE6Ee_TH"
      },
      "source": [
        "Creating it\n"
      ]
    },
    {
      "cell_type": "code",
      "execution_count": 24,
      "metadata": {
        "id": "4GFrNf3KfGJz"
      },
      "outputs": [],
      "source": [
        "model = InsuranceModel()"
      ]
    },
    {
      "cell_type": "markdown",
      "metadata": {
        "id": "t8qYSm-JfLHY"
      },
      "source": [
        "Checking out the weights and biases of the model using `model.parameters`"
      ]
    },
    {
      "cell_type": "code",
      "execution_count": 25,
      "metadata": {
        "colab": {
          "base_uri": "https://localhost:8080/"
        },
        "id": "R3CGHkp5fQOC",
        "outputId": "0a188725-fc2c-4166-ebbf-09e42822f028"
      },
      "outputs": [
        {
          "data": {
            "text/plain": [
              "[Parameter containing:\n",
              " tensor([[ 0.2427, -0.2528,  0.0460,  0.0254,  0.3169, -0.1402]],\n",
              "        requires_grad=True),\n",
              " Parameter containing:\n",
              " tensor([-0.0991], requires_grad=True)]"
            ]
          },
          "execution_count": 25,
          "metadata": {},
          "output_type": "execute_result"
        }
      ],
      "source": [
        "list(model.parameters())"
      ]
    },
    {
      "cell_type": "markdown",
      "metadata": {
        "id": "-0vILm2vfbi0"
      },
      "source": [
        "# 4. Train the model to fit the data\n",
        "\n",
        "To train our model, i will use `fit` function  "
      ]
    },
    {
      "cell_type": "code",
      "execution_count": 26,
      "metadata": {
        "id": "hq6KZpB6fpvS"
      },
      "outputs": [],
      "source": [
        "def evaluate(model,validation_loader):\n",
        "  outputs = [model.validation_step(batch) for batch in validation_loader]\n",
        "  return model.validation_epoch_end(outputs)\n",
        "\n",
        "def fit(epochs, lr, model, train_loader, validation_loader, opt_func=torch.optim.SGD):\n",
        "  history = []\n",
        "  optimizer = opt_func(model.parameters(),lr)\n",
        "  for epoch in range(epochs):\n",
        "    # Training phase\n",
        "    for batch in train_loader:\n",
        "      loss = model.training_step(batch)\n",
        "      loss.backward()\n",
        "      optimizer.step()\n",
        "      optimizer.zero_grad()\n",
        "    # Validation phase\n",
        "    result = evaluate(model, validation_loader)\n",
        "    model.epoch_end(epoch, result, epochs)\n",
        "    history.append(result)\n",
        "  return history\n"
      ]
    },
    {
      "cell_type": "code",
      "execution_count": 27,
      "metadata": {
        "colab": {
          "base_uri": "https://localhost:8080/"
        },
        "id": "KiAXXqGGh4Jc",
        "outputId": "05cee6c3-790d-458a-d325-f40355123fab"
      },
      "outputs": [
        {
          "name": "stdout",
          "output_type": "stream",
          "text": [
            "{'val_loss': 10762.8310546875}\n"
          ]
        }
      ],
      "source": [
        "model = InsuranceModel()\n",
        "result = evaluate(model, validation_loader)\n",
        "print(result)"
      ]
    },
    {
      "cell_type": "markdown",
      "metadata": {
        "id": "wgM-8e1oiUu0"
      },
      "source": [
        "Model now is ready to be trained. it might need to be runned on different numberof epochs with different learning rates to get good results (advice i have read) .\n",
        "\n",
        "in a case of loss too large or `nan` i will need to reintialize  the model by running the cell `model = InsuranceModel()`"
      ]
    },
    {
      "cell_type": "markdown",
      "metadata": {
        "id": "RvE6hFV0jskr"
      },
      "source": [
        "Training the model with different learning rates and for different number of epochs (FIGURING OUT)"
      ]
    },
    {
      "cell_type": "code",
      "execution_count": 28,
      "metadata": {
        "colab": {
          "base_uri": "https://localhost:8080/"
        },
        "id": "50VfJX-KiQXi",
        "outputId": "a7af1f4c-36b9-406b-b9a3-e01b865a87c8"
      },
      "outputs": [
        {
          "name": "stdout",
          "output_type": "stream",
          "text": [
            "Epoch [500], val_loss: 5284.4355\n",
            "Epoch [1000], val_loss: 5057.6802\n"
          ]
        }
      ],
      "source": [
        "epochs = 1000\n",
        "lr = 0.001\n",
        "history1 = fit(epochs, lr, model, train_loader, validation_loader)\n"
      ]
    },
    {
      "cell_type": "code",
      "execution_count": 29,
      "metadata": {
        "colab": {
          "base_uri": "https://localhost:8080/"
        },
        "id": "9rUipu-oj5vF",
        "outputId": "f2f3ea82-4eda-4100-d3f5-2df0470a9e17"
      },
      "outputs": [
        {
          "name": "stdout",
          "output_type": "stream",
          "text": [
            "Epoch [500], val_loss: 4302.0034\n",
            "Epoch [1000], val_loss: 4244.2954\n",
            "Epoch [1500], val_loss: 4211.0298\n"
          ]
        }
      ],
      "source": [
        "epochs = 1500\n",
        "lr = 0.05\n",
        "history2 = fit(epochs, lr, model, train_loader, validation_loader)"
      ]
    },
    {
      "cell_type": "code",
      "execution_count": 30,
      "metadata": {
        "colab": {
          "base_uri": "https://localhost:8080/"
        },
        "id": "5bOmTCx6kBYC",
        "outputId": "92dda180-9157-4fbd-83f0-b4e0232b9c89"
      },
      "outputs": [
        {
          "name": "stdout",
          "output_type": "stream",
          "text": [
            "Epoch [500], val_loss: 4161.9541\n",
            "Epoch [1000], val_loss: 4148.3403\n",
            "Epoch [1500], val_loss: 4101.4189\n",
            "Epoch [2000], val_loss: 4045.7170\n"
          ]
        }
      ],
      "source": [
        "epochs = 2000\n",
        "lr = 0.1\n",
        "history3 = fit(epochs, lr, model, train_loader, validation_loader)"
      ]
    },
    {
      "cell_type": "code",
      "execution_count": 31,
      "metadata": {
        "colab": {
          "base_uri": "https://localhost:8080/"
        },
        "id": "Z3ujXZzgj9_B",
        "outputId": "4bebb7c9-e7d7-4396-d143-6d24ed243107"
      },
      "outputs": [
        {
          "name": "stdout",
          "output_type": "stream",
          "text": [
            "Epoch [500], val_loss: 3922.7273\n",
            "Epoch [1000], val_loss: 3922.7900\n",
            "Epoch [1500], val_loss: 3732.5645\n",
            "Epoch [2000], val_loss: 3678.8792\n",
            "Epoch [2500], val_loss: 3519.8904\n"
          ]
        }
      ],
      "source": [
        "epochs = 2500\n",
        "lr = 0.4\n",
        "history4 = fit(epochs, lr, model, train_loader, validation_loader)"
      ]
    },
    {
      "cell_type": "code",
      "execution_count": 32,
      "metadata": {
        "colab": {
          "base_uri": "https://localhost:8080/"
        },
        "id": "dHgPHw5lkHiS",
        "outputId": "91e60d8e-303f-4c55-fbe3-11e2bfd9a0a4"
      },
      "outputs": [
        {
          "name": "stdout",
          "output_type": "stream",
          "text": [
            "Epoch [500], val_loss: 3503.9353\n",
            "Epoch [1000], val_loss: 3244.7002\n",
            "Epoch [1500], val_loss: 2971.5986\n",
            "Epoch [2000], val_loss: 2763.0310\n",
            "Epoch [2500], val_loss: 2896.2029\n",
            "Epoch [3000], val_loss: 2563.6765\n"
          ]
        }
      ],
      "source": [
        "epochs = 3000\n",
        "lr = 0.8\n",
        "history5 = fit(epochs, lr, model, train_loader, validation_loader)"
      ]
    },
    {
      "cell_type": "code",
      "execution_count": 33,
      "metadata": {
        "colab": {
          "base_uri": "https://localhost:8080/"
        },
        "id": "wJytPQd_4jMK",
        "outputId": "8077cd50-34bb-47a3-b460-e7159ac8ccbd"
      },
      "outputs": [
        {
          "data": {
            "text/plain": [
              "{'val_loss': 2563.676513671875}"
            ]
          },
          "execution_count": 33,
          "metadata": {},
          "output_type": "execute_result"
        }
      ],
      "source": [
        "#  final validation loss of the model\n",
        "val_loss = history5[-1]\n",
        "val_loss"
      ]
    },
    {
      "cell_type": "markdown",
      "metadata": {
        "id": "wdriFe5l44Ny"
      },
      "source": [
        "# 5. Make predictions using the trained model"
      ]
    },
    {
      "cell_type": "code",
      "execution_count": 34,
      "metadata": {
        "id": "Hcd1N9ch4kgx"
      },
      "outputs": [],
      "source": [
        "def predict_single(input,target,model):\n",
        "  inputs = input.unsqueeze(0)\n",
        "  predictions = model(inputs)\n",
        "  prediction = predictions[0].detach()\n",
        "  print(\"Input:\", input)\n",
        "  print(\"Target:\", target)\n",
        "  print(\"Prediction:\", prediction)"
      ]
    },
    {
      "cell_type": "code",
      "execution_count": 35,
      "metadata": {
        "colab": {
          "base_uri": "https://localhost:8080/"
        },
        "id": "bYpGm6Ok4kdx",
        "outputId": "bcf0958d-80d3-4673-f00f-b83f2035ca8a"
      },
      "outputs": [
        {
          "name": "stdout",
          "output_type": "stream",
          "text": [
            "Input: tensor([44.0000,  0.0000, 43.8900,  2.0000,  1.0000,  2.0000])\n",
            "Target: tensor([46200.9844])\n",
            "Prediction: tensor([22657.4746])\n"
          ]
        }
      ],
      "source": [
        "input,target = validation_ds[0]\n",
        "predict_single(input, target, model)"
      ]
    },
    {
      "cell_type": "code",
      "execution_count": 36,
      "metadata": {
        "colab": {
          "base_uri": "https://localhost:8080/"
        },
        "id": "WeZipqzM4ka4",
        "outputId": "17be6300-8321-48cf-d559-62207769aa55"
      },
      "outputs": [
        {
          "name": "stdout",
          "output_type": "stream",
          "text": [
            "Input: tensor([26.0000,  1.0000, 32.4900,  1.0000,  0.0000,  0.0000])\n",
            "Target: tensor([3490.5491])\n",
            "Prediction: tensor([3992.0828])\n"
          ]
        }
      ],
      "source": [
        "input,target = validation_ds[10]\n",
        "predict_single(input, target, model)"
      ]
    },
    {
      "cell_type": "code",
      "execution_count": 37,
      "metadata": {
        "colab": {
          "base_uri": "https://localhost:8080/"
        },
        "id": "TCEQt7mM5J8b",
        "outputId": "188f6527-07d8-4d18-a2c4-fccbb5e87f3a"
      },
      "outputs": [
        {
          "name": "stdout",
          "output_type": "stream",
          "text": [
            "Input: tensor([50.0000,  0.0000, 27.3600,  0.0000,  0.0000,  0.0000])\n",
            "Target: tensor([25656.5762])\n",
            "Prediction: tensor([10279.3008])\n"
          ]
        }
      ],
      "source": [
        "input,target = validation_ds[13]\n",
        "predict_single(input, target, model)"
      ]
    },
    {
      "cell_type": "code",
      "execution_count": 38,
      "metadata": {
        "colab": {
          "base_uri": "https://localhost:8080/"
        },
        "id": "HZVynBNk5KSQ",
        "outputId": "f0429389-184e-4e2f-a579-b3dc1185f07a"
      },
      "outputs": [
        {
          "name": "stdout",
          "output_type": "stream",
          "text": [
            "Input: tensor([20.0000,  0.0000, 28.7850,  0.0000,  0.0000,  0.0000])\n",
            "Target: tensor([2457.2112])\n",
            "Prediction: tensor([2492.1326])\n"
          ]
        }
      ],
      "source": [
        "input,target = validation_ds[54]\n",
        "predict_single(input, target, model)"
      ]
    },
    {
      "cell_type": "code",
      "execution_count": 39,
      "metadata": {
        "colab": {
          "base_uri": "https://localhost:8080/"
        },
        "id": "bThevksa5LH7",
        "outputId": "5752c871-bddd-42ca-8949-07e63d9ffde6"
      },
      "outputs": [
        {
          "name": "stdout",
          "output_type": "stream",
          "text": [
            "Input: tensor([49.0000,  0.0000, 34.7700,  1.0000,  0.0000,  1.0000])\n",
            "Target: tensor([9583.8936])\n",
            "Prediction: tensor([10165.2920])\n"
          ]
        }
      ],
      "source": [
        "input,target = validation_ds[87]\n",
        "predict_single(input, target, model)"
      ]
    },
    {
      "cell_type": "markdown",
      "metadata": {
        "id": "2CXY8MO881et"
      },
      "source": []
    },
    {
      "cell_type": "code",
      "execution_count": 43,
      "metadata": {
        "colab": {
          "base_uri": "https://localhost:8080/",
          "height": 578
        },
        "id": "YFIE8kO9800Z",
        "outputId": "49357f88-5b23-42ce-8cfd-9c61af23d3bf"
      },
      "outputs": [
        {
          "data": {
            "image/png": "[encoded data removed]",
            "text/plain": [
              "<Figure size 1000x600 with 1 Axes>"
            ]
          },
          "metadata": {},
          "output_type": "display_data"
        }
      ],
      "source": [
        "# Get the validation data\n",
        "val_inputs, val_targets = validation_ds[:]\n",
        "val_preds = model(val_inputs)\n",
        "\n",
        "# Extract the BMI values from the inputs\n",
        "bmi_values = val_inputs[:, 2].detach().numpy()\n",
        "\n",
        "# Create a scatter plot\n",
        "plt.figure(figsize=(10, 6))\n",
        "plt.scatter(bmi_values, val_targets.detach().numpy(), c='b', label='Actual Charges')\n",
        "plt.scatter(bmi_values, val_preds.detach().numpy(), c='r', label='Predicted Charges', alpha=0.7)\n",
        "\n",
        "# Add labels and title\n",
        "plt.xlabel('BMI')\n",
        "plt.ylabel('Insurance Charges')\n",
        "plt.title('Actual vs. Predicted Insurance Charges by BMI')\n",
        "plt.legend()\n",
        "plt.grid(True)\n",
        "plt.show()"
      ]
    },
    {
      "cell_type": "code",
      "execution_count": 41,
      "metadata": {
        "colab": {
          "base_uri": "https://localhost:8080/"
        },
        "id": "Ke01m1_X_0Hs",
        "outputId": "e6ccabc9-11ed-4079-d1fa-68ca58df50c5"
      },
      "outputs": [
        {
          "name": "stdout",
          "output_type": "stream",
          "text": [
            "R-squared (R²) Score: 0.5990\n"
          ]
        }
      ],
      "source": [
        "from sklearn.metrics import r2_score\n",
        "\n",
        "# Calculate R-squared score\n",
        "r2 = r2_score(val_targets.detach().numpy(), val_preds.detach().numpy())\n",
        "\n",
        "print(f\"R-squared (R²) Score: {r2:.4f}\")"
      ]
    },
    {
      "cell_type": "markdown",
      "metadata": {
        "id": "ITr6o-EnCTkh"
      },
      "source": [
        "# 6. Saving the model"
      ]
    },
    {
      "cell_type": "code",
      "execution_count": 46,
      "metadata": {
        "colab": {
          "base_uri": "https://localhost:8080/"
        },
        "id": "pIbz4AroCYuY",
        "outputId": "d6da4dc9-5941-445e-c241-38c58d13ac3d"
      },
      "outputs": [
        {
          "name": "stdout",
          "output_type": "stream",
          "text": [
            "Saving Model to: models/insurance_model.pth\n"
          ]
        }
      ],
      "source": [
        "from pathlib import Path\n",
        "\n",
        "MODEL_PATH = Path(\"models\")\n",
        "MODEL_PATH.mkdir(parents=True, exist_ok=True)\n",
        "\n",
        "MODEL_NAME = \"insurance_model.pth\"\n",
        "MODEL_SAVE_PATH = MODEL_PATH / MODEL_NAME\n",
        "\n",
        "print(f\"Saving Model to: {MODEL_SAVE_PATH}\")\n",
        "torch.save(obj=model.state_dict(), f=MODEL_SAVE_PATH)"
      ]
    },
    {
      "cell_type": "code",
      "execution_count": 47,
      "metadata": {
        "colab": {
          "base_uri": "https://localhost:8080/"
        },
        "id": "PDB4Fd1IC5NI",
        "outputId": "613596a1-257e-4403-f3bc-e7c5c86b8c82"
      },
      "outputs": [
        {
          "name": "stdout",
          "output_type": "stream",
          "text": [
            "total 4\n",
            "-rw-r--r-- 1 root root 1608 Jul 30 20:35 insurance_model.pth\n"
          ]
        }
      ],
      "source": [
        "!ls  -l models"
      ]
    },
    {
      "cell_type": "markdown",
      "metadata": {
        "id": "MeUFNM1JDI4F"
      },
      "source": [
        "# 7. Loading the model"
      ]
    },
    {
      "cell_type": "code",
      "execution_count": 48,
      "metadata": {
        "colab": {
          "base_uri": "https://localhost:8080/"
        },
        "id": "WmaiPO1jDT5F",
        "outputId": "f94f60cc-3e94-4757-97fe-d882db0d88c6"
      },
      "outputs": [
        {
          "data": {
            "text/plain": [
              "OrderedDict([('linear.weight',\n",
              "              tensor([[ 2.5953e+02, -4.2876e+02, -9.6040e-01,  3.7511e+02,  1.3646e+04,\n",
              "                       -2.2247e+02]])),\n",
              "             ('linear.bias', tensor([-2670.7551]))])"
            ]
          },
          "execution_count": 48,
          "metadata": {},
          "output_type": "execute_result"
        }
      ],
      "source": [
        "model.state_dict()"
      ]
    },
    {
      "cell_type": "code",
      "execution_count": 49,
      "metadata": {
        "colab": {
          "base_uri": "https://localhost:8080/"
        },
        "id": "nsN1yLyJDIRJ",
        "outputId": "a0421ada-3339-4825-e44e-f5f24d6011d4"
      },
      "outputs": [
        {
          "data": {
            "text/plain": [
              "<All keys matched successfully>"
            ]
          },
          "execution_count": 49,
          "metadata": {},
          "output_type": "execute_result"
        }
      ],
      "source": [
        "model_loaded = InsuranceModel()\n",
        "model_loaded.load_state_dict(torch.load(MODEL_SAVE_PATH))"
      ]
    },
    {
      "cell_type": "code",
      "execution_count": 50,
      "metadata": {
        "colab": {
          "base_uri": "https://localhost:8080/"
        },
        "id": "BaskaDuXDXpT",
        "outputId": "273a6494-ab62-4793-e154-80718a5c0297"
      },
      "outputs": [
        {
          "data": {
            "text/plain": [
              "OrderedDict([('linear.weight',\n",
              "              tensor([[ 2.5953e+02, -4.2876e+02, -9.6040e-01,  3.7511e+02,  1.3646e+04,\n",
              "                       -2.2247e+02]])),\n",
              "             ('linear.bias', tensor([-2670.7551]))])"
            ]
          },
          "execution_count": 50,
          "metadata": {},
          "output_type": "execute_result"
        }
      ],
      "source": [
        "model_loaded.state_dict()"
      ]
    }
  ],
  "metadata": {
    "colab": {
      "provenance": []
    },
    "kernelspec": {
      "display_name": "Python 3",
      "name": "python3"
    },
    "language_info": {
      "name": "python"
    }
  },
  "nbformat": 4,
  "nbformat_minor": 0
}
